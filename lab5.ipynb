{
  "nbformat": 4,
  "nbformat_minor": 0,
  "metadata": {
    "colab": {
      "provenance": [],
      "mount_file_id": "1iLp7lFyxZ0PZ1-NyGKGVO18_saZn_FRo",
      "authorship_tag": "ABX9TyPwuU2bOSS/A/UPDuKcufH9",
      "include_colab_link": true
    },
    "kernelspec": {
      "name": "python3",
      "display_name": "Python 3"
    },
    "language_info": {
      "name": "python"
    }
  },
  "cells": [
    {
      "cell_type": "markdown",
      "metadata": {
        "id": "view-in-github",
        "colab_type": "text"
      },
      "source": [
        "<a href=\"https://colab.research.google.com/github/moter1026/review_Kinopoisk_lab5/blob/main/lab5.ipynb\" target=\"_parent\"><img src=\"https://colab.research.google.com/assets/colab-badge.svg\" alt=\"Open In Colab\"/></a>"
      ]
    },
    {
      "cell_type": "code",
      "source": [
        "!pip install nlpaug\n"
      ],
      "metadata": {
        "id": "6pLvpAUei7jD"
      },
      "execution_count": null,
      "outputs": []
    },
    {
      "cell_type": "markdown",
      "source": [
        "Импортирую необходимые библиотеки и получаю все отзывы из заранее созданного csv файла"
      ],
      "metadata": {
        "id": "Cf-Vp9Rr0hwB"
      }
    },
    {
      "cell_type": "code",
      "execution_count": null,
      "metadata": {
        "colab": {
          "base_uri": "https://localhost:8080/"
        },
        "id": "voNVDROxhYSt",
        "outputId": "2d3547b3-5002-4cb4-fccf-d056b2b0aacf"
      },
      "outputs": [
        {
          "output_type": "stream",
          "name": "stdout",
          "text": [
            "Drive already mounted at /content/drive; to attempt to forcibly remount, call drive.mount(\"/content/drive\", force_remount=True).\n",
            "/content/drive/MyDrive/lab5_drive\n",
            "                                           text of file class\n",
            "0     Форрест Гамп\\n\\n\\n\\nФоррест Гамп – не совсем о...  good\n",
            "1     Форрест Гамп\\n\\n\\n\\nСразу хочу сказать, что по...  good\n",
            "2     Форрест Гамп\\n\\n\\n\\nКогда я сажусь смотреть ка...  good\n",
            "3     Форрест Гамп\\n\\n\\n\\nВпервые посмотрев этот фил...  good\n",
            "4     Форрест Гамп\\n\\n\\n\\nНе поспоришь - Том Хэнкс г...  good\n",
            "...                                                 ...   ...\n",
            "2123  Зеленая миля\\n\\n\\n\\nФильм не оправдал ожиданий...   bad\n",
            "2124  Зеленая миля\\n\\n\\n\\nФактически фильм начинаетс...   bad\n",
            "2125  Зеленая миля\\n\\n\\n\\n'Уж сколько раз твердили м...   bad\n",
            "2126  Зеленая миля\\n\\n\\n\\nНе буду повторяться за пре...   bad\n",
            "2127  Зеленая миля\\n\\n\\n\\nЧего ожидаешь, когда садиш...   bad\n",
            "\n",
            "[2128 rows x 2 columns]\n"
          ]
        }
      ],
      "source": [
        "import torch\n",
        "from torch.utils.data import Dataset\n",
        "from torch.utils.data import DataLoader\n",
        "from typing import Tuple, Any\n",
        "import torch.nn as nn\n",
        "import torch.nn.functional as F\n",
        "from torch.autograd import Variable\n",
        "import torchvision\n",
        "import numpy as np\n",
        "import pandas as pd\n",
        "import matplotlib.pyplot as plt\n",
        "import re\n",
        "import os\n",
        "import math\n",
        "import random\n",
        "import nlpaug.augmenter.word as npw\n",
        "\n",
        "import nltk\n",
        "from nltk.tokenize import word_tokenize\n",
        "from nltk import PorterStemmer\n",
        "from nltk import WordNetLemmatizer\n",
        "from nltk.corpus import stopwords\n",
        "\n",
        "from google.colab import drive\n",
        "import sys\n",
        "# import copy_dataset_random\n",
        "# from lab4 import make_dataFrame\n",
        "\n",
        "drive.mount('/content/drive')\n",
        "sys.path.insert(0, \"/content/drive/MyDrive/lab5_drive\")\n",
        "%cd /content/drive/MyDrive/lab5_drive/\n",
        "\n",
        "allTextsDf = pd.read_csv(\"/content/drive/MyDrive/lab5_drive/big_description.csv\")\n",
        "print(allTextsDf)\n"
      ]
    },
    {
      "cell_type": "markdown",
      "source": [
        "произвожу преобразование текста в нужный вид:\n",
        "\n",
        "*   удаляю не буквенные символы\n",
        "*   токенизирую (разбиваю текст на слова)\n",
        "*   лемматизирую (привожу слова к базовой форме)\n",
        "*   объединяю токены через пробел"
      ],
      "metadata": {
        "id": "YEQD9dxKvS0P"
      }
    },
    {
      "cell_type": "code",
      "source": [
        "remove_non_alphabets = lambda x: re.sub(r'[^a-zA-Zа-яА-Я]', ' ', x)"
      ],
      "metadata": {
        "id": "BJpheJGzl_EJ"
      },
      "execution_count": 34,
      "outputs": []
    },
    {
      "cell_type": "code",
      "source": [
        "tokenize = lambda x: word_tokenize(x, language=\"russian\")"
      ],
      "metadata": {
        "id": "AIH9wH2Yr3Qb"
      },
      "execution_count": 43,
      "outputs": []
    },
    {
      "cell_type": "code",
      "source": [
        "lemmatizer = WordNetLemmatizer()\n",
        "leammtizer = lambda x: [ lemmatizer.lemmatize(word) for word in x ]"
      ],
      "metadata": {
        "id": "QHJ8COxvsErm"
      },
      "execution_count": 45,
      "outputs": []
    },
    {
      "cell_type": "code",
      "source": [
        "print('Processing : [=', end='')\n",
        "allTextsDf['text of file'] = allTextsDf['text of file'].apply(remove_non_alphabets)\n",
        "print('=', end='')\n",
        "allTextsDf['text of file'] = allTextsDf['text of file'].apply(tokenize) # [ word_tokenize(row) for row in data['text']]\n",
        "print('=', end='')\n",
        "allTextsDf['text of file'] = allTextsDf['text of file'].apply(leammtizer)\n",
        "print('=', end='')\n",
        "allTextsDf['text of file'] = allTextsDf['text of file'].apply(lambda x: ' '.join(x))\n",
        "print('] : Completed', end='')\n",
        "allTextsDf.head()"
      ],
      "metadata": {
        "colab": {
          "base_uri": "https://localhost:8080/",
          "height": 224
        },
        "id": "fE8R58wsuMfW",
        "outputId": "6e2ec126-8c9e-4310-bd05-53e68414e504"
      },
      "execution_count": 47,
      "outputs": [
        {
          "output_type": "stream",
          "name": "stdout",
          "text": [
            "Processing : [====] : Completed"
          ]
        },
        {
          "output_type": "execute_result",
          "data": {
            "text/plain": [
              "                                        text of file class\n",
              "0  форрест гамп форрест гамп не совсем обычный че...  good\n",
              "1  форрест гамп сразу хочу сказать что посмотрел ...  good\n",
              "2  форрест гамп когда я сажусь смотреть какой ниб...  good\n",
              "3  форрест гамп впервые посмотрев этот фильм я до...  good\n",
              "4  форрест гамп не поспоришь том хэнкс гениален в...  good"
            ],
            "text/html": [
              "\n",
              "  <div id=\"df-2bfadd0f-a053-4a5c-ad6b-f15f28e4716f\" class=\"colab-df-container\">\n",
              "    <div>\n",
              "<style scoped>\n",
              "    .dataframe tbody tr th:only-of-type {\n",
              "        vertical-align: middle;\n",
              "    }\n",
              "\n",
              "    .dataframe tbody tr th {\n",
              "        vertical-align: top;\n",
              "    }\n",
              "\n",
              "    .dataframe thead th {\n",
              "        text-align: right;\n",
              "    }\n",
              "</style>\n",
              "<table border=\"1\" class=\"dataframe\">\n",
              "  <thead>\n",
              "    <tr style=\"text-align: right;\">\n",
              "      <th></th>\n",
              "      <th>text of file</th>\n",
              "      <th>class</th>\n",
              "    </tr>\n",
              "  </thead>\n",
              "  <tbody>\n",
              "    <tr>\n",
              "      <th>0</th>\n",
              "      <td>форрест гамп форрест гамп не совсем обычный че...</td>\n",
              "      <td>good</td>\n",
              "    </tr>\n",
              "    <tr>\n",
              "      <th>1</th>\n",
              "      <td>форрест гамп сразу хочу сказать что посмотрел ...</td>\n",
              "      <td>good</td>\n",
              "    </tr>\n",
              "    <tr>\n",
              "      <th>2</th>\n",
              "      <td>форрест гамп когда я сажусь смотреть какой ниб...</td>\n",
              "      <td>good</td>\n",
              "    </tr>\n",
              "    <tr>\n",
              "      <th>3</th>\n",
              "      <td>форрест гамп впервые посмотрев этот фильм я до...</td>\n",
              "      <td>good</td>\n",
              "    </tr>\n",
              "    <tr>\n",
              "      <th>4</th>\n",
              "      <td>форрест гамп не поспоришь том хэнкс гениален в...</td>\n",
              "      <td>good</td>\n",
              "    </tr>\n",
              "  </tbody>\n",
              "</table>\n",
              "</div>\n",
              "    <div class=\"colab-df-buttons\">\n",
              "\n",
              "  <div class=\"colab-df-container\">\n",
              "    <button class=\"colab-df-convert\" onclick=\"convertToInteractive('df-2bfadd0f-a053-4a5c-ad6b-f15f28e4716f')\"\n",
              "            title=\"Convert this dataframe to an interactive table.\"\n",
              "            style=\"display:none;\">\n",
              "\n",
              "  <svg xmlns=\"http://www.w3.org/2000/svg\" height=\"24px\" viewBox=\"0 -960 960 960\">\n",
              "    <path d=\"M120-120v-720h720v720H120Zm60-500h600v-160H180v160Zm220 220h160v-160H400v160Zm0 220h160v-160H400v160ZM180-400h160v-160H180v160Zm440 0h160v-160H620v160ZM180-180h160v-160H180v160Zm440 0h160v-160H620v160Z\"/>\n",
              "  </svg>\n",
              "    </button>\n",
              "\n",
              "  <style>\n",
              "    .colab-df-container {\n",
              "      display:flex;\n",
              "      gap: 12px;\n",
              "    }\n",
              "\n",
              "    .colab-df-convert {\n",
              "      background-color: #E8F0FE;\n",
              "      border: none;\n",
              "      border-radius: 50%;\n",
              "      cursor: pointer;\n",
              "      display: none;\n",
              "      fill: #1967D2;\n",
              "      height: 32px;\n",
              "      padding: 0 0 0 0;\n",
              "      width: 32px;\n",
              "    }\n",
              "\n",
              "    .colab-df-convert:hover {\n",
              "      background-color: #E2EBFA;\n",
              "      box-shadow: 0px 1px 2px rgba(60, 64, 67, 0.3), 0px 1px 3px 1px rgba(60, 64, 67, 0.15);\n",
              "      fill: #174EA6;\n",
              "    }\n",
              "\n",
              "    .colab-df-buttons div {\n",
              "      margin-bottom: 4px;\n",
              "    }\n",
              "\n",
              "    [theme=dark] .colab-df-convert {\n",
              "      background-color: #3B4455;\n",
              "      fill: #D2E3FC;\n",
              "    }\n",
              "\n",
              "    [theme=dark] .colab-df-convert:hover {\n",
              "      background-color: #434B5C;\n",
              "      box-shadow: 0px 1px 3px 1px rgba(0, 0, 0, 0.15);\n",
              "      filter: drop-shadow(0px 1px 2px rgba(0, 0, 0, 0.3));\n",
              "      fill: #FFFFFF;\n",
              "    }\n",
              "  </style>\n",
              "\n",
              "    <script>\n",
              "      const buttonEl =\n",
              "        document.querySelector('#df-2bfadd0f-a053-4a5c-ad6b-f15f28e4716f button.colab-df-convert');\n",
              "      buttonEl.style.display =\n",
              "        google.colab.kernel.accessAllowed ? 'block' : 'none';\n",
              "\n",
              "      async function convertToInteractive(key) {\n",
              "        const element = document.querySelector('#df-2bfadd0f-a053-4a5c-ad6b-f15f28e4716f');\n",
              "        const dataTable =\n",
              "          await google.colab.kernel.invokeFunction('convertToInteractive',\n",
              "                                                    [key], {});\n",
              "        if (!dataTable) return;\n",
              "\n",
              "        const docLinkHtml = 'Like what you see? Visit the ' +\n",
              "          '<a target=\"_blank\" href=https://colab.research.google.com/notebooks/data_table.ipynb>data table notebook</a>'\n",
              "          + ' to learn more about interactive tables.';\n",
              "        element.innerHTML = '';\n",
              "        dataTable['output_type'] = 'display_data';\n",
              "        await google.colab.output.renderOutput(dataTable, element);\n",
              "        const docLink = document.createElement('div');\n",
              "        docLink.innerHTML = docLinkHtml;\n",
              "        element.appendChild(docLink);\n",
              "      }\n",
              "    </script>\n",
              "  </div>\n",
              "\n",
              "\n",
              "<div id=\"df-aca287df-40dc-4f86-a6f5-4c858565f48a\">\n",
              "  <button class=\"colab-df-quickchart\" onclick=\"quickchart('df-aca287df-40dc-4f86-a6f5-4c858565f48a')\"\n",
              "            title=\"Suggest charts\"\n",
              "            style=\"display:none;\">\n",
              "\n",
              "<svg xmlns=\"http://www.w3.org/2000/svg\" height=\"24px\"viewBox=\"0 0 24 24\"\n",
              "     width=\"24px\">\n",
              "    <g>\n",
              "        <path d=\"M19 3H5c-1.1 0-2 .9-2 2v14c0 1.1.9 2 2 2h14c1.1 0 2-.9 2-2V5c0-1.1-.9-2-2-2zM9 17H7v-7h2v7zm4 0h-2V7h2v10zm4 0h-2v-4h2v4z\"/>\n",
              "    </g>\n",
              "</svg>\n",
              "  </button>\n",
              "\n",
              "<style>\n",
              "  .colab-df-quickchart {\n",
              "      --bg-color: #E8F0FE;\n",
              "      --fill-color: #1967D2;\n",
              "      --hover-bg-color: #E2EBFA;\n",
              "      --hover-fill-color: #174EA6;\n",
              "      --disabled-fill-color: #AAA;\n",
              "      --disabled-bg-color: #DDD;\n",
              "  }\n",
              "\n",
              "  [theme=dark] .colab-df-quickchart {\n",
              "      --bg-color: #3B4455;\n",
              "      --fill-color: #D2E3FC;\n",
              "      --hover-bg-color: #434B5C;\n",
              "      --hover-fill-color: #FFFFFF;\n",
              "      --disabled-bg-color: #3B4455;\n",
              "      --disabled-fill-color: #666;\n",
              "  }\n",
              "\n",
              "  .colab-df-quickchart {\n",
              "    background-color: var(--bg-color);\n",
              "    border: none;\n",
              "    border-radius: 50%;\n",
              "    cursor: pointer;\n",
              "    display: none;\n",
              "    fill: var(--fill-color);\n",
              "    height: 32px;\n",
              "    padding: 0;\n",
              "    width: 32px;\n",
              "  }\n",
              "\n",
              "  .colab-df-quickchart:hover {\n",
              "    background-color: var(--hover-bg-color);\n",
              "    box-shadow: 0 1px 2px rgba(60, 64, 67, 0.3), 0 1px 3px 1px rgba(60, 64, 67, 0.15);\n",
              "    fill: var(--button-hover-fill-color);\n",
              "  }\n",
              "\n",
              "  .colab-df-quickchart-complete:disabled,\n",
              "  .colab-df-quickchart-complete:disabled:hover {\n",
              "    background-color: var(--disabled-bg-color);\n",
              "    fill: var(--disabled-fill-color);\n",
              "    box-shadow: none;\n",
              "  }\n",
              "\n",
              "  .colab-df-spinner {\n",
              "    border: 2px solid var(--fill-color);\n",
              "    border-color: transparent;\n",
              "    border-bottom-color: var(--fill-color);\n",
              "    animation:\n",
              "      spin 1s steps(1) infinite;\n",
              "  }\n",
              "\n",
              "  @keyframes spin {\n",
              "    0% {\n",
              "      border-color: transparent;\n",
              "      border-bottom-color: var(--fill-color);\n",
              "      border-left-color: var(--fill-color);\n",
              "    }\n",
              "    20% {\n",
              "      border-color: transparent;\n",
              "      border-left-color: var(--fill-color);\n",
              "      border-top-color: var(--fill-color);\n",
              "    }\n",
              "    30% {\n",
              "      border-color: transparent;\n",
              "      border-left-color: var(--fill-color);\n",
              "      border-top-color: var(--fill-color);\n",
              "      border-right-color: var(--fill-color);\n",
              "    }\n",
              "    40% {\n",
              "      border-color: transparent;\n",
              "      border-right-color: var(--fill-color);\n",
              "      border-top-color: var(--fill-color);\n",
              "    }\n",
              "    60% {\n",
              "      border-color: transparent;\n",
              "      border-right-color: var(--fill-color);\n",
              "    }\n",
              "    80% {\n",
              "      border-color: transparent;\n",
              "      border-right-color: var(--fill-color);\n",
              "      border-bottom-color: var(--fill-color);\n",
              "    }\n",
              "    90% {\n",
              "      border-color: transparent;\n",
              "      border-bottom-color: var(--fill-color);\n",
              "    }\n",
              "  }\n",
              "</style>\n",
              "\n",
              "  <script>\n",
              "    async function quickchart(key) {\n",
              "      const quickchartButtonEl =\n",
              "        document.querySelector('#' + key + ' button');\n",
              "      quickchartButtonEl.disabled = true;  // To prevent multiple clicks.\n",
              "      quickchartButtonEl.classList.add('colab-df-spinner');\n",
              "      try {\n",
              "        const charts = await google.colab.kernel.invokeFunction(\n",
              "            'suggestCharts', [key], {});\n",
              "      } catch (error) {\n",
              "        console.error('Error during call to suggestCharts:', error);\n",
              "      }\n",
              "      quickchartButtonEl.classList.remove('colab-df-spinner');\n",
              "      quickchartButtonEl.classList.add('colab-df-quickchart-complete');\n",
              "    }\n",
              "    (() => {\n",
              "      let quickchartButtonEl =\n",
              "        document.querySelector('#df-aca287df-40dc-4f86-a6f5-4c858565f48a button');\n",
              "      quickchartButtonEl.style.display =\n",
              "        google.colab.kernel.accessAllowed ? 'block' : 'none';\n",
              "    })();\n",
              "  </script>\n",
              "</div>\n",
              "    </div>\n",
              "  </div>\n"
            ]
          },
          "metadata": {},
          "execution_count": 47
        }
      ]
    },
    {
      "cell_type": "markdown",
      "source": [
        "Считаю количество хороших и плохих комментариев"
      ],
      "metadata": {
        "id": "XwstTem0cwWk"
      }
    },
    {
      "cell_type": "code",
      "source": [
        "value_counts = allTextsDf['class'].value_counts()\n",
        "\n",
        "countGoodTexts = value_counts.get(\"good\", 0)\n",
        "countBadTexts = value_counts.get(\"bad\", 0)"
      ],
      "metadata": {
        "id": "vHQkkz7pc5s2"
      },
      "execution_count": 48,
      "outputs": []
    },
    {
      "cell_type": "markdown",
      "source": [
        "разделяю списки со всеми хорошими и плохими элементами в пропорциях 80:10:10,\n",
        "где 80% - это для обучения, 10% - для тестов, 10% - для валинации. Сразу перемешиваю все элементы в DataFram-ах"
      ],
      "metadata": {
        "id": "2t9pef2Rk5d7"
      }
    },
    {
      "cell_type": "code",
      "source": [
        "badTexts = allTextsDf[allTextsDf[\"class\"] != \"good\"]\n",
        "goodTexts = allTextsDf[allTextsDf[\"class\"] != \"bad\"]\n",
        "\n",
        "AllTextsForLearning = 0\n",
        "AllTextsForTest = 0\n",
        "AllTextsForValid = 0\n",
        "\n",
        "goodTextsForLearning = goodTexts[:math.floor(countGoodTexts*0.8)]\n",
        "badTextsForLearning = badTexts[:math.floor(countBadTexts*0.8)]\n",
        "AllTextsForLearning = pd.concat([goodTextsForLearning, badTextsForLearning], ignore_index = True).sample(frac=1, random_state = random.randrange(0, 10000))\n",
        "print(len(AllTextsForLearning))\n",
        "\n",
        "\n",
        "goodTextsForTest = goodTexts[math.floor(countGoodTexts*0.8) : math.floor(countGoodTexts*0.8) + math.floor(countGoodTexts*0.1)]\n",
        "badTextsForTest = badTexts[math.floor(countBadTexts*0.8) : math.floor(countBadTexts*0.8) + math.floor(countBadTexts*0.1)]\n",
        "AllTextsForTest = pd.concat([goodTextsForTest, badTextsForTest], ignore_index = True).sample(frac=1, random_state = random.randrange(0, 10000))\n",
        "\n",
        "goodTextsForValid = goodTexts[math.floor(countGoodTexts*0.8) + math.floor(countGoodTexts*0.1) :]\n",
        "badTextsForValid = badTexts[math.floor(countBadTexts*0.8) + math.floor(countBadTexts*0.1) :]\n",
        "AllTextsForTest = pd.concat([goodTextsForValid, badTextsForValid], ignore_index = True).sample(frac=1, random_state = random.randrange(0, 10000))\n"
      ],
      "metadata": {
        "colab": {
          "base_uri": "https://localhost:8080/"
        },
        "id": "kN3bEArj27ck",
        "outputId": "df365699-284f-4448-e47a-f21c47dd8322"
      },
      "execution_count": 49,
      "outputs": [
        {
          "output_type": "stream",
          "name": "stdout",
          "text": [
            "1701\n"
          ]
        }
      ]
    },
    {
      "cell_type": "markdown",
      "source": [
        "Создаю класс для собственного датасета"
      ],
      "metadata": {
        "id": "-xldGB-gcSaI"
      }
    },
    {
      "cell_type": "code",
      "source": [
        "class TextDataset(Dataset):\n",
        "  def __init__(self, data: pd.DataFrame, transform: Any=None) -> None:\n",
        "    self.data = data\n",
        "    self.transform = transform\n",
        "\n",
        "  def __len__(self) -> int:\n",
        "    return len(self.data)\n",
        "\n",
        "  def __getitem__(self, index: int) -> Tuple[torch.tensor, int]:\n",
        "    text = self.data.iloc[index, 0]\n",
        "    type_class = self.data.iloc[index, 1]\n",
        "    if self.transform:\n",
        "      text = self.transform(self.data.iloc[index])\n",
        "\n",
        "    return text, type_class\n"
      ],
      "metadata": {
        "id": "hNzP2iVFFlNS"
      },
      "execution_count": 50,
      "outputs": []
    },
    {
      "cell_type": "markdown",
      "source": [
        "Блок кода ниже, чтобы в будущем пробовать фугментацию текста"
      ],
      "metadata": {
        "id": "9PkmBGlec-ED"
      }
    },
    {
      "cell_type": "code",
      "source": [
        "# text = \"Игра престолов\\n\\n\\n\\nКроме дерьма и половых органов этот сериал, возможно, привлекает своим нестандартным сюжетом, который отсекает всякую надежду и веру человека в лучшее.\\n\\n\\nЧтобы оправдать свою нравственную деградацию, нужно показать, что раньше всё было гораздо жестче и развратнее, а мораль никогда не приветствовалась. Современное общество уже скатилось к этому самому Средневековью, именно скатилось, потому что нравственность и мораль не придумала кучка дегенератов в 21 веке. Почему? Да, потому что люди потеряли смысл своего существования, наплевали на устои и традиции по которым веками жили их предки. И их образ жизни действительно стал подобным героям этого сериала, у кого то в большей степени, у кого то в меньшей. Наверно смысл этого сериала сроден со смыслом фильма Феррери, но в отличие от фильма языческий Рим не раскололся в своём ликующем веселье, он продолжает существовать и жить в сердцах современных людей., а зло остаётся безнаказанным. Могу сказать одно, теряя веру в добро, справедливость и признавая данную закономерность, человек сам становиться частью этой системы, пожирая себя изнутри.\\n\\n\"\n",
        "# import nlpaug.augmenter.char as nac\n",
        "\n",
        "# # Пример текста на русском\n",
        "# text = \"Привет, как дела?\"\n",
        "\n",
        "# # Создаем аугментер для изменения порядка символов (char swap)\n",
        "# aug = nac.RandomCharAug(action=\"swap\")\n",
        "\n",
        "# # Аугментируем текст\n",
        "# augmented_text = aug.augment(text)\n",
        "\n",
        "# print(\"Оригинальный текст:\", text)\n",
        "# print(\"Аугментированный текст:\", augmented_text)\n"
      ],
      "metadata": {
        "id": "gsusIC_Fc-cD"
      },
      "execution_count": null,
      "outputs": []
    },
    {
      "cell_type": "markdown",
      "source": [
        "объявляю объект класса"
      ],
      "metadata": {
        "id": "rxY9fKFj0W6K"
      }
    },
    {
      "cell_type": "code",
      "source": [
        "custom_dataset = TextDataset(AllTextsForLearning)\n",
        "\n",
        "dataloader = DataLoader(custom_dataset, batch_size=4, shuffle=True)"
      ],
      "metadata": {
        "id": "kyf0rrSCr61U"
      },
      "execution_count": 51,
      "outputs": []
    },
    {
      "cell_type": "markdown",
      "source": [],
      "metadata": {
        "id": "3Toi_27I0wXe"
      }
    }
  ]
}