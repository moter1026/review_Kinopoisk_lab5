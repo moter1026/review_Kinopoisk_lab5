{
  "nbformat": 4,
  "nbformat_minor": 0,
  "metadata": {
    "colab": {
      "provenance": [],
      "mount_file_id": "1iLp7lFyxZ0PZ1-NyGKGVO18_saZn_FRo",
      "authorship_tag": "ABX9TyPsTn8qD9jh9S2bnTDDr/Bo",
      "include_colab_link": true
    },
    "kernelspec": {
      "name": "python3",
      "display_name": "Python 3"
    },
    "language_info": {
      "name": "python"
    }
  },
  "cells": [
    {
      "cell_type": "markdown",
      "metadata": {
        "id": "view-in-github",
        "colab_type": "text"
      },
      "source": [
        "<a href=\"https://colab.research.google.com/github/moter1026/review_Kinopoisk_lab5/blob/main/lab5.ipynb\" target=\"_parent\"><img src=\"https://colab.research.google.com/assets/colab-badge.svg\" alt=\"Open In Colab\"/></a>"
      ]
    },
    {
      "cell_type": "markdown",
      "source": [
        "Импортирую необходимые библиотеки и получаю все отзывы из заранее созданного csv файла"
      ],
      "metadata": {
        "id": "Cf-Vp9Rr0hwB"
      }
    },
    {
      "cell_type": "code",
      "execution_count": 4,
      "metadata": {
        "colab": {
          "base_uri": "https://localhost:8080/"
        },
        "id": "voNVDROxhYSt",
        "outputId": "74ab7f8e-b616-4e19-f420-a8e7bd596970"
      },
      "outputs": [
        {
          "output_type": "stream",
          "name": "stdout",
          "text": [
            "Drive already mounted at /content/drive; to attempt to forcibly remount, call drive.mount(\"/content/drive\", force_remount=True).\n",
            "/content/drive/MyDrive/lab5_drive\n",
            "                                           text of file class\n",
            "0     Форрест Гамп\\n\\n\\n\\nФоррест Гамп – не совсем о...  good\n",
            "1     Форрест Гамп\\n\\n\\n\\nСразу хочу сказать, что по...  good\n",
            "2     Форрест Гамп\\n\\n\\n\\nКогда я сажусь смотреть ка...  good\n",
            "3     Форрест Гамп\\n\\n\\n\\nВпервые посмотрев этот фил...  good\n",
            "4     Форрест Гамп\\n\\n\\n\\nНе поспоришь - Том Хэнкс г...  good\n",
            "...                                                 ...   ...\n",
            "2123  Зеленая миля\\n\\n\\n\\nФильм не оправдал ожиданий...   bad\n",
            "2124  Зеленая миля\\n\\n\\n\\nФактически фильм начинаетс...   bad\n",
            "2125  Зеленая миля\\n\\n\\n\\n'Уж сколько раз твердили м...   bad\n",
            "2126  Зеленая миля\\n\\n\\n\\nНе буду повторяться за пре...   bad\n",
            "2127  Зеленая миля\\n\\n\\n\\nЧего ожидаешь, когда садиш...   bad\n",
            "\n",
            "[2128 rows x 2 columns]\n"
          ]
        }
      ],
      "source": [
        "import torch\n",
        "from torch.utils.data import Dataset\n",
        "from typing import Tuple, Any\n",
        "import torch.nn as nn\n",
        "import torch.nn.functional as F\n",
        "from torch.autograd import Variable\n",
        "import torchvision\n",
        "import numpy as np\n",
        "import pandas as pd\n",
        "import matplotlib.pyplot as plt\n",
        "import re\n",
        "import os\n",
        "import math\n",
        "import random\n",
        "\n",
        "import nltk\n",
        "from nltk.tokenize import word_tokenize\n",
        "from nltk import PorterStemmer\n",
        "from nltk import WordNetLemmatizer\n",
        "from nltk.corpus import stopwords\n",
        "\n",
        "from google.colab import drive\n",
        "import sys\n",
        "# import copy_dataset_random\n",
        "# from lab4 import make_dataFrame\n",
        "\n",
        "drive.mount('/content/drive')\n",
        "sys.path.insert(0, \"/content/drive/MyDrive/lab5_drive\")\n",
        "%cd /content/drive/MyDrive/lab5_drive/\n",
        "\n",
        "allTextsDf = pd.read_csv(\"/content/drive/MyDrive/lab5_drive/big_description.csv\")\n",
        "print(allTextsDf)\n"
      ]
    },
    {
      "cell_type": "markdown",
      "source": [
        "Считаю количество хороших и плохих комментариев"
      ],
      "metadata": {
        "id": "XwstTem0cwWk"
      }
    },
    {
      "cell_type": "code",
      "source": [
        "value_counts = allTextsDf['class'].value_counts()\n",
        "\n",
        "countGoodTexts = value_counts.get(\"good\", 0)\n",
        "countBadTexts = value_counts.get(\"bad\", 0)"
      ],
      "metadata": {
        "id": "vHQkkz7pc5s2"
      },
      "execution_count": 5,
      "outputs": []
    },
    {
      "cell_type": "markdown",
      "source": [
        "разделяю списки со всеми хорошими и плохими элементами в пропорциях 80:10:10,\n",
        "где 80% - это для обучения, 10% - для тестов, 10% - для валинации. Сразу перемешиваю все элементы в DataFram-ах"
      ],
      "metadata": {
        "id": "2t9pef2Rk5d7"
      }
    },
    {
      "cell_type": "code",
      "source": [
        "badTexts = allTextsDf[allTextsDf[\"class\"] != \"good\"]\n",
        "goodTexts = allTextsDf[allTextsDf[\"class\"] != \"bad\"]\n",
        "\n",
        "AllTextsForLearning = 0\n",
        "AllTextsForTest = 0\n",
        "AllTextsForValid = 0\n",
        "\n",
        "goodTextsForLearning = goodTexts[:math.floor(countGoodTexts*0.8)]\n",
        "badTextsForLearning = badTexts[:math.floor(countBadTexts*0.8)]\n",
        "AllTextsForLearning = pd.concat([goodTextsForLearning, badTextsForLearning], ignore_index = True).sample(frac=1, random_state = random.randrange(0, 10000))\n",
        "print(len(AllTextsForLearning))\n",
        "\n",
        "\n",
        "goodTextsForTest = goodTexts[math.floor(countGoodTexts*0.8) : math.floor(countGoodTexts*0.8) + math.floor(countGoodTexts*0.1)]\n",
        "badTextsForTest = badTexts[math.floor(countBadTexts*0.8) : math.floor(countBadTexts*0.8) + math.floor(countBadTexts*0.1)]\n",
        "AllTextsForTest = pd.concat([goodTextsForTest, badTextsForTest], ignore_index = True).sample(frac=1, random_state = random.randrange(0, 10000))\n",
        "\n",
        "goodTextsForValid = goodTexts[math.floor(countGoodTexts*0.8) + math.floor(countGoodTexts*0.1) :]\n",
        "badTextsForValid = badTexts[math.floor(countBadTexts*0.8) + math.floor(countBadTexts*0.1) :]\n",
        "AllTextsForTest = pd.concat([goodTextsForValid, badTextsForValid], ignore_index = True).sample(frac=1, random_state = random.randrange(0, 10000))\n"
      ],
      "metadata": {
        "colab": {
          "base_uri": "https://localhost:8080/"
        },
        "id": "kN3bEArj27ck",
        "outputId": "b39925bf-7c5a-4eb5-c7fa-0fdd17e9ac97"
      },
      "execution_count": 9,
      "outputs": [
        {
          "output_type": "stream",
          "name": "stdout",
          "text": [
            "1701\n"
          ]
        }
      ]
    },
    {
      "cell_type": "markdown",
      "source": [
        "Создаю класс для собственного датасета"
      ],
      "metadata": {
        "id": "-xldGB-gcSaI"
      }
    },
    {
      "cell_type": "code",
      "source": [
        "class TextDataset(Dataset):\n",
        "  def __init__(self, data: pd.DataFrame, transform: Any=None) -> None:\n",
        "    self.data = data\n",
        "    self.transform = transform\n",
        "\n",
        "  def __len__(self) -> int:\n",
        "    return len(self.data)\n",
        "\n",
        "  def __getitem__(self, index: int) -> Tuple[torch.tensor, int]:\n",
        "    text = self.data.iloc[index, 0]\n",
        "    type_class = self.data.iloc[index, 1]\n",
        "    if self.transform:\n",
        "      text = self.transform(self.data.iloc[index])\n",
        "\n",
        "    return text, type_class\n"
      ],
      "metadata": {
        "colab": {
          "base_uri": "https://localhost:8080/"
        },
        "id": "hNzP2iVFFlNS",
        "outputId": "51ae36c4-3784-4ea5-abc6-93985eb942d5"
      },
      "execution_count": 10,
      "outputs": [
        {
          "output_type": "stream",
          "name": "stdout",
          "text": [
            "('Игра престолов\\n\\n\\n\\nКроме дерьма и половых органов этот сериал, возможно, привлекает своим нестандартным сюжетом, который отсекает всякую надежду и веру человека в лучшее.\\n\\n\\nЧтобы оправдать свою нравственную деградацию, нужно показать, что раньше всё было гораздо жестче и развратнее, а мораль никогда не приветствовалась. Современное общество уже скатилось к этому самому Средневековью, именно скатилось, потому что нравственность и мораль не придумала кучка дегенератов в 21 веке. Почему? Да, потому что люди потеряли смысл своего существования, наплевали на устои и традиции по которым веками жили их предки. И их образ жизни действительно стал подобным героям этого сериала, у кого то в большей степени, у кого то в меньшей. Наверно смысл этого сериала сроден со смыслом фильма Феррери, но в отличие от фильма языческий Рим не раскололся в своём ликующем веселье, он продолжает существовать и жить в сердцах современных людей., а зло остаётся безнаказанным. Могу сказать одно, теряя веру в добро, справедливость и признавая данную закономерность, человек сам становиться частью этой системы, пожирая себя изнутри.\\n\\n', 'bad')\n"
          ]
        }
      ]
    }
  ]
}